{
 "cells": [
  {
   "cell_type": "markdown",
   "metadata": {},
   "source": [
    "# Filtro activo de segundo orden: Sallen-Key\n",
    "\n",
    "Este filtro paso-bajo es útil para eliminar el ruido de alta frecuencia de una señal analógica. Se trata de un filtro activo, con la siguiente estructura:\n",
    "\n",
    "![Sallen-Key](./Images/SallenKey.png)\n",
    "\n",
    "La función de transferencia, ya expresada en términos de frecuencia, es:\n",
    "\n",
    "$$\n",
    "H(f) = \\frac{V_o(f)}{V_i(f)} = \\frac{K}{1 - \\left(\\frac{f}{f_c}\\right)^2 + \\frac{f}{Qf_c}j}\n",
    "$$\n",
    "\n",
    "Donde $K$ es la ganancia DC del filtro, $f_c$ es su frecuencia de corte, y $Q$ es el factor de calidad:\n",
    "\n",
    "$$\n",
    "K = 1 + \\frac{R_4}{R_3} \\qquad f_c = \\frac{1}{2\\pi\\sqrt{R_1R_2C_1C_2}} \\qquad Q = \\frac{\\sqrt{R_1R_2C_1C_2}}{R_1C_1 + R_2C_1 + R_1C_2\\left(1 - K\\right)}\n",
    "$$\n",
    "\n",
    "En nuestro caso, queremos que la ganancia DC sea 1, para que el filtro no modifique las señales de baja frecuencia. Lo más sencillo para conseguirlo es hacer $R_4$ igual a cero y/o $R_3$ igual a infinito:\n",
    "\n",
    "![Sallen-Key de ganancia unidad](./Images/SallenKeyUnitGain.png)\n",
    "\n",
    "Después de fijar $K$, nos quedan cuatro parámetros ($R_1$, $R_2$, $C_1$ y $C_2$) para ajustar dos características del filtro ($f_c$ y $Q$). Si hacemos los siguientes cambios de variable:\n",
    "\n",
    "$$\n",
    "R_1 = mR \\qquad R_2 = R \\qquad C_1 = C \\qquad C_2=nC\n",
    "$$\n",
    "\n",
    "entonces podemos expresar $f_c$ y $Q$ de forma más simple:\n",
    "\n",
    "$$\n",
    "f_c = \\frac{1}{2\\pi RC\\sqrt{mn}} \\qquad Q = \\frac{\\sqrt{mn}}{m + 1}\n",
    "$$\n",
    "\n",
    "Para que el filtro sea de Butterworth, $Q$ tiene que valer $1/\\sqrt{2}$. Una forma de asegurarlo es hacer que las dos resistencias sean iguales ($m = 1$), y luego despejar $n$ en la segunda ecuación, de donde se obtiene que $n$ debe ser igual a 2. Así, al final tenemos dos resistencias iguales $R_1$ y $R_2$, y un condensador $C_2$ con el doble de capacidad que $C_1$.\n",
    "\n",
    "Para poder calcular el valor común de las resistencias $R$ que proporciona la frecuencia de corte deseada, se puede utilizar el código siguiente:"
   ]
  },
  {
   "cell_type": "code",
   "execution_count": 1,
   "metadata": {},
   "outputs": [
    {
     "name": "stdout",
     "output_type": "stream",
     "text": [
      " C1 = 330.00 nF\n",
      " C2 = 660.00 nF\n",
      " R1 = 34102.89 Ohm\n",
      " R2 = 34102.89 Ohm\n"
     ]
    }
   ],
   "source": [
    "import matplotlib.pyplot as plt\n",
    "import numpy as np\n",
    "import math, cmath\n",
    "\n",
    "# Parámetros ajustables\n",
    "fc = 10            # Frecuencia de corte en Hz\n",
    "Q = 1/math.sqrt(2) # Factor de calidad (1/sqrt(2) para Butterworth)\n",
    "\n",
    "# Parámetros fijos\n",
    "m = 1.             # Relación entre resistencias\n",
    "C = 330.e-9        # Capacidad del condensador C1 (el que va a tierra) en F\n",
    "\n",
    "# Cálculo de n en función del ancho de banda Q\n",
    "n = (Q*(m+1))**2/m\n",
    "\n",
    "# Cálculo de R en función de fc\n",
    "R = 1./(2*math.pi*C*fc*math.sqrt(m*n));\n",
    "\n",
    "# Cálculo de los elementos del circuito\n",
    "C1 = C\n",
    "print(\" C1 = %2.2f nF\" % (C1*1e9))\n",
    "C2 = n*C\n",
    "print(\" C2 = %2.2f nF\" % (C2*1e9))\n",
    "R1 = m*R\n",
    "print(\" R1 = %2.2f Ohm\" % R1)\n",
    "R2 = R\n",
    "print(\" R2 = %2.2f Ohm\" % R2)"
   ]
  },
  {
   "cell_type": "markdown",
   "metadata": {},
   "source": [
    "A continuación se muestra la función de transferencia del filtro. Se puede probar a modificar el valor de $Q$, para ver su efecto sobre la curva de ganancia:"
   ]
  },
  {
   "cell_type": "code",
   "execution_count": 3,
   "metadata": {},
   "outputs": [
    {
     "data": {
      "image/png": "[encoded data removed]",
      "text/plain": [
       "<Figure size 432x288 with 2 Axes>"
      ]
     },
     "metadata": {
      "needs_background": "light"
     },
     "output_type": "display_data"
    }
   ],
   "source": [
    "# Función de transferencia\n",
    "s = lambda f: 2*math.pi*f*1j\n",
    "H = lambda f: 1/(s(f)**2*R1*C1*R2*C2 + s(f)*(R1*C1+R2*C1) + 1)\n",
    "M = lambda f: 20*math.log10(abs(H(f)));\n",
    "A = lambda f: 180/math.pi*cmath.phase(H(f));\n",
    "\n",
    "# Vector de frecuencias\n",
    "freqs = np.logspace(-2, 3, 1000)\n",
    "\n",
    "plt.subplot(2, 1, 1)\n",
    "plt.semilogx(freqs, list(map(M, freqs)), lw = 2.0);\n",
    "plt.ylabel(\"Ganancia (dB)\")\n",
    "plt.grid(which = \"both\")\n",
    "\n",
    "plt.subplot(2, 1, 2)\n",
    "plt.semilogx(freqs, list(map(A, freqs)), lw = 2.0);\n",
    "plt.xlabel(\"Frecuencia (Hz)\")\n",
    "plt.ylabel(\"Fase (grados)\")\n",
    "plt.grid(which = \"both\")"
   ]
  }
 ],
 "metadata": {
  "kernelspec": {
   "display_name": "Python 3",
   "language": "python",
   "name": "python3"
  },
  "language_info": {
   "codemirror_mode": {
    "name": "ipython",
    "version": 3
   },
   "file_extension": ".py",
   "mimetype": "text/x-python",
   "name": "python",
   "nbconvert_exporter": "python",
   "pygments_lexer": "ipython3",
   "version": "3.7.9"
  }
 },
 "nbformat": 4,
 "nbformat_minor": 4
}
