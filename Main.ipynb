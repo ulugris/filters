{
 "cells": [
  {
   "cell_type": "markdown",
   "metadata": {},
   "source": [
    "# Filtros analógicos <a href=\"http://lim.ii.udc.es/\"><img style=\"float: right;\" src=\"./Images/LogoLIM.png\"><a/>"
   ]
  },
  {
   "cell_type": "markdown",
   "metadata": {},
   "source": [
    "En este documento se describen dos aplicaciones típicas de filtros analógicos:\n",
    "\n",
    "1. [**Filtro de Sallen-Key para señales analógicas**](./SallenKey.ipynb)\n",
    "2. [**Filtro RC para señales PWM**](./PWM-RC.ipynb)"
   ]
  },
  {
   "cell_type": "markdown",
   "metadata": {},
   "source": [
    "## Referencias\n",
    "\n",
    "[1] [*Analysis of the Sallen-Key Architecture*](https://www.ti.com/lit/an/sloa024b/sloa024b.pdf), Texas Instruments, 2002   \n",
    "[2] Wagner, J., [*Filtering PWM Signals*](http://ltwiki.org/images/8/82/PWM_Filters.pdf), 2009\n",
    "\n",
    "## Enlaces interesantes\n",
    "[1] [*RC Low-Pass Filter Design for PWM*](http://sim.okawa-denshi.jp/en/PWMtool.php), OKAWA Electric Design"
   ]
  },
  {
   "cell_type": "markdown",
   "metadata": {},
   "source": [
    "## Acerca de este documento\n",
    "Autor: Urbano Lugrís Armesto  \n",
    "[Laboratorio de Ingeniería Mecánica](http://lim.ii.udc.es/)  \n",
    "[Escuela Politécnica Superior](https://eps.udc.es/)  \n",
    "[Universidad de A Coruña](https://www.udc.es/)  \n",
    "\n",
    "Este documento pertenece a la asignatura *Actuadores y Sensores*, de cuarto curso del Grado en Ingeniería Mecánica, impartido en la Escuela Politécnica Superior de la Universidad de A Coruña."
   ]
  }
 ],
 "metadata": {
  "kernelspec": {
   "display_name": "Python 3",
   "language": "python",
   "name": "python3"
  },
  "language_info": {
   "codemirror_mode": {
    "name": "ipython",
    "version": 3
   },
   "file_extension": ".py",
   "mimetype": "text/x-python",
   "name": "python",
   "nbconvert_exporter": "python",
   "pygments_lexer": "ipython3",
   "version": "3.7.9"
  }
 },
 "nbformat": 4,
 "nbformat_minor": 4
}
